{
 "cells": [
  {
   "cell_type": "code",
   "execution_count": 0,
   "metadata": {
    "application/vnd.databricks.v1+cell": {
     "cellMetadata": {
      "byteLimit": 2048000,
      "rowLimit": 10000
     },
     "inputWidgets": {},
     "nuid": "097c5614-365c-4adb-9796-ac19a4331075",
     "showTitle": false,
     "tableResultSettingsMap": {},
     "title": ""
    }
   },
   "outputs": [
    {
     "output_type": "stream",
     "name": "stdout",
     "output_type": "stream",
     "text": [
      "Out[15]: DataFrame[Position: string, Level: int, Salary: int]"
     ]
    }
   ],
   "source": [
    "df=spark.read.csv('/FileStore/tables/Position_Salaries.csv',header=True,inferSchema=True)\n",
    "df"
   ]
  },
  {
   "cell_type": "code",
   "execution_count": 0,
   "metadata": {
    "application/vnd.databricks.v1+cell": {
     "cellMetadata": {
      "byteLimit": 2048000,
      "rowLimit": 10000
     },
     "inputWidgets": {},
     "nuid": "84d1e985-02a7-4a49-a2e6-67628ba7a1fb",
     "showTitle": false,
     "tableResultSettingsMap": {},
     "title": ""
    }
   },
   "outputs": [
    {
     "output_type": "display_data",
     "data": {
      "text/html": [
       "<div>\n",
       "<style scoped>\n",
       "    .dataframe tbody tr th:only-of-type {\n",
       "        vertical-align: middle;\n",
       "    }\n",
       "\n",
       "    .dataframe tbody tr th {\n",
       "        vertical-align: top;\n",
       "    }\n",
       "\n",
       "    .dataframe thead th {\n",
       "        text-align: right;\n",
       "    }\n",
       "</style>\n",
       "<table border=\"1\" class=\"dataframe\">\n",
       "  <thead>\n",
       "    <tr style=\"text-align: right;\">\n",
       "      <th></th>\n",
       "      <th>Position</th>\n",
       "      <th>Level</th>\n",
       "      <th>Salary</th>\n",
       "    </tr>\n",
       "  </thead>\n",
       "  <tbody>\n",
       "    <tr>\n",
       "      <th>0</th>\n",
       "      <td>Business Analyst</td>\n",
       "      <td>1</td>\n",
       "      <td>45000</td>\n",
       "    </tr>\n",
       "    <tr>\n",
       "      <th>1</th>\n",
       "      <td>Junior Consultant</td>\n",
       "      <td>2</td>\n",
       "      <td>50000</td>\n",
       "    </tr>\n",
       "    <tr>\n",
       "      <th>2</th>\n",
       "      <td>Senior Consultant</td>\n",
       "      <td>3</td>\n",
       "      <td>60000</td>\n",
       "    </tr>\n",
       "    <tr>\n",
       "      <th>3</th>\n",
       "      <td>Manager</td>\n",
       "      <td>4</td>\n",
       "      <td>80000</td>\n",
       "    </tr>\n",
       "    <tr>\n",
       "      <th>4</th>\n",
       "      <td>Country Manager</td>\n",
       "      <td>5</td>\n",
       "      <td>110000</td>\n",
       "    </tr>\n",
       "    <tr>\n",
       "      <th>5</th>\n",
       "      <td>Region Manager</td>\n",
       "      <td>6</td>\n",
       "      <td>150000</td>\n",
       "    </tr>\n",
       "    <tr>\n",
       "      <th>6</th>\n",
       "      <td>Partner</td>\n",
       "      <td>7</td>\n",
       "      <td>200000</td>\n",
       "    </tr>\n",
       "    <tr>\n",
       "      <th>7</th>\n",
       "      <td>Senior Partner</td>\n",
       "      <td>8</td>\n",
       "      <td>300000</td>\n",
       "    </tr>\n",
       "    <tr>\n",
       "      <th>8</th>\n",
       "      <td>C-level</td>\n",
       "      <td>9</td>\n",
       "      <td>500000</td>\n",
       "    </tr>\n",
       "    <tr>\n",
       "      <th>9</th>\n",
       "      <td>CEO</td>\n",
       "      <td>10</td>\n",
       "      <td>1000000</td>\n",
       "    </tr>\n",
       "  </tbody>\n",
       "</table>\n",
       "</div>"
      ]
     },
     "metadata": {
      "application/vnd.databricks.v1+output": {
       "addedWidgets": {},
       "arguments": {},
       "data": "<div>\n<style scoped>\n    .dataframe tbody tr th:only-of-type {\n        vertical-align: middle;\n    }\n\n    .dataframe tbody tr th {\n        vertical-align: top;\n    }\n\n    .dataframe thead th {\n        text-align: right;\n    }\n</style>\n<table border=\"1\" class=\"dataframe\">\n  <thead>\n    <tr style=\"text-align: right;\">\n      <th></th>\n      <th>Position</th>\n      <th>Level</th>\n      <th>Salary</th>\n    </tr>\n  </thead>\n  <tbody>\n    <tr>\n      <th>0</th>\n      <td>Business Analyst</td>\n      <td>1</td>\n      <td>45000</td>\n    </tr>\n    <tr>\n      <th>1</th>\n      <td>Junior Consultant</td>\n      <td>2</td>\n      <td>50000</td>\n    </tr>\n    <tr>\n      <th>2</th>\n      <td>Senior Consultant</td>\n      <td>3</td>\n      <td>60000</td>\n    </tr>\n    <tr>\n      <th>3</th>\n      <td>Manager</td>\n      <td>4</td>\n      <td>80000</td>\n    </tr>\n    <tr>\n      <th>4</th>\n      <td>Country Manager</td>\n      <td>5</td>\n      <td>110000</td>\n    </tr>\n    <tr>\n      <th>5</th>\n      <td>Region Manager</td>\n      <td>6</td>\n      <td>150000</td>\n    </tr>\n    <tr>\n      <th>6</th>\n      <td>Partner</td>\n      <td>7</td>\n      <td>200000</td>\n    </tr>\n    <tr>\n      <th>7</th>\n      <td>Senior Partner</td>\n      <td>8</td>\n      <td>300000</td>\n    </tr>\n    <tr>\n      <th>8</th>\n      <td>C-level</td>\n      <td>9</td>\n      <td>500000</td>\n    </tr>\n    <tr>\n      <th>9</th>\n      <td>CEO</td>\n      <td>10</td>\n      <td>1000000</td>\n    </tr>\n  </tbody>\n</table>\n</div>",
       "datasetInfos": [],
       "metadata": {},
       "removedWidgets": [],
       "textData": null,
       "type": "htmlSandbox"
      }
     },
     "output_type": "display_data"
    }
   ],
   "source": [
    "df=df.toPandas()\n",
    "df"
   ]
  },
  {
   "cell_type": "code",
   "execution_count": 0,
   "metadata": {
    "application/vnd.databricks.v1+cell": {
     "cellMetadata": {
      "byteLimit": 2048000,
      "rowLimit": 10000
     },
     "inputWidgets": {},
     "nuid": "ba54f12f-7cc0-4062-8ab6-8215474f5bbb",
     "showTitle": false,
     "tableResultSettingsMap": {},
     "title": ""
    }
   },
   "outputs": [
    {
     "output_type": "stream",
     "name": "stdout",
     "output_type": "stream",
     "text": [
      "Out[17]: array([[ 1],\n       [ 2],\n       [ 3],\n       [ 4],\n       [ 5],\n       [ 6],\n       [ 7],\n       [ 8],\n       [ 9],\n       [10]], dtype=int32)"
     ]
    }
   ],
   "source": [
    "X=df.iloc[:,1:2].values\n",
    "X"
   ]
  },
  {
   "cell_type": "code",
   "execution_count": 0,
   "metadata": {
    "application/vnd.databricks.v1+cell": {
     "cellMetadata": {
      "byteLimit": 2048000,
      "rowLimit": 10000
     },
     "inputWidgets": {},
     "nuid": "fdac5e6f-c6c4-4663-b888-95b7598e5b81",
     "showTitle": false,
     "tableResultSettingsMap": {},
     "title": ""
    }
   },
   "outputs": [
    {
     "output_type": "stream",
     "name": "stdout",
     "output_type": "stream",
     "text": [
      "Out[18]: 0      45000\n1      50000\n2      60000\n3      80000\n4     110000\n5     150000\n6     200000\n7     300000\n8     500000\n9    1000000\nName: Salary, dtype: int32"
     ]
    }
   ],
   "source": [
    "y=df.iloc[:,-1]\n",
    "y"
   ]
  },
  {
   "cell_type": "code",
   "execution_count": 0,
   "metadata": {
    "application/vnd.databricks.v1+cell": {
     "cellMetadata": {
      "byteLimit": 2048000,
      "rowLimit": 10000
     },
     "inputWidgets": {},
     "nuid": "c233be35-c913-4678-9fac-0412c918fb8c",
     "showTitle": false,
     "tableResultSettingsMap": {},
     "title": ""
    }
   },
   "outputs": [
    {
     "output_type": "stream",
     "name": "stdout",
     "output_type": "stream",
     "text": [
      "Out[19]: RandomForestRegressor(n_estimators=10, random_state=0)"
     ]
    }
   ],
   "source": [
    "from sklearn.ensemble import RandomForestRegressor\n",
    "model=RandomForestRegressor(n_estimators=10,random_state=0)\n",
    "model.fit(X,y)\n"
   ]
  },
  {
   "cell_type": "code",
   "execution_count": 0,
   "metadata": {
    "application/vnd.databricks.v1+cell": {
     "cellMetadata": {
      "byteLimit": 2048000,
      "rowLimit": 10000
     },
     "inputWidgets": {},
     "nuid": "5f41e513-804a-45ca-9272-5e7cac7f8e5b",
     "showTitle": false,
     "tableResultSettingsMap": {},
     "title": ""
    }
   },
   "outputs": [
    {
     "output_type": "stream",
     "name": "stdout",
     "output_type": "stream",
     "text": [
      "Out[20]: array([167000.])"
     ]
    }
   ],
   "source": [
    "model.predict([[6.5]])"
   ]
  },
  {
   "cell_type": "code",
   "execution_count": 0,
   "metadata": {
    "application/vnd.databricks.v1+cell": {
     "cellMetadata": {
      "byteLimit": 2048000,
      "rowLimit": 10000
     },
     "inputWidgets": {},
     "nuid": "3804ed9b-bd04-46a9-bd0f-cee937870d82",
     "showTitle": false,
     "tableResultSettingsMap": {},
     "title": ""
    }
   },
   "outputs": [
    {
     "output_type": "display_data",
     "data": {
      "image/png": "[encoded data removed]"
     },
     "metadata": {
      "application/vnd.databricks.v1+output": {
       "addedWidgets": {},
       "arguments": {},
       "data": "data:image/png;base64,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\n",
       "datasetInfos": [],
       "metadata": {},
       "removedWidgets": [],
       "type": "image"
      }
     },
     "output_type": "display_data"
    }
   ],
   "source": [
    "import matplotlib.pyplot as plt\n",
    "plt.scatter(X,y,color=\"red\")\n",
    "plt.plot(X,model.predict(X),color=\"blue\")\n",
    "plt.xlabel(\"Level\")\n",
    "plt.ylabel(\"Salary\")\n",
    "plt.show()"
   ]
  },
  {
   "cell_type": "code",
   "execution_count": 0,
   "metadata": {
    "application/vnd.databricks.v1+cell": {
     "cellMetadata": {
      "byteLimit": 2048000,
      "rowLimit": 10000
     },
     "inputWidgets": {},
     "nuid": "93592b10-2a6e-4cf7-81b6-04aa0510f88a",
     "showTitle": false,
     "tableResultSettingsMap": {},
     "title": ""
    }
   },
   "outputs": [],
   "source": []
  }
 ],
 "metadata": {
  "application/vnd.databricks.v1+notebook": {
   "computePreferences": null,
   "dashboards": [],
   "environmentMetadata": null,
   "inputWidgetPreferences": null,
   "language": "python",
   "notebookMetadata": {
    "pythonIndentUnit": 4
   },
   "notebookName": "5. Random Forest Regressor",
   "widgets": {}
  }
 },
 "nbformat": 4,
 "nbformat_minor": 0
}